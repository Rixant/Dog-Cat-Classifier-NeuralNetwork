{
 "cells": [
  {
   "cell_type": "code",
   "execution_count": 1,
   "metadata": {},
   "outputs": [
    {
     "name": "stdout",
     "output_type": "stream",
     "text": [
      "Libraries imported succesfully\n"
     ]
    }
   ],
   "source": [
    "#import relevant libraries\n",
    "import numpy as np\n",
    "import pandas as pd\n",
    "import random as random\n",
    "import matplotlib.pyplot as plt\n",
    "import os\n",
    "from PIL import Image\n",
    "import keras as K\n",
    "from keras.models import Model\n",
    "from keras.layers import Conv2D, MaxPooling2D, BatchNormalization, Activation\n",
    "from keras.layers import Flatten, Dense, Dropout\n",
    "\n",
    "print('Libraries imported succesfully')"
   ]
  },
  {
   "cell_type": "code",
   "execution_count": 2,
   "metadata": {},
   "outputs": [],
   "source": [
    "#assign datasets directories\n",
    "DIRNAME_train = './datasets/training_set'\n",
    "DIRNAME_test = './datasets/test_set'"
   ]
  },
  {
   "cell_type": "code",
   "execution_count": 3,
   "metadata": {},
   "outputs": [],
   "source": [
    "#assign fixed input image height and width\n",
    "IMG_HEIGHT = 64\n",
    "IMG_WIDTH = 64"
   ]
  },
  {
   "cell_type": "code",
   "execution_count": 4,
   "metadata": {},
   "outputs": [],
   "source": [
    "#function to load images into lists\n",
    "def load_datasets(DIRNAME):\n",
    "    images = []\n",
    "    for dirname, _, filenames in os.walk(DIRNAME):\n",
    "        for filename in filenames: \n",
    "            images.append(os.path.join(dirname, filename))\n",
    "    random.shuffle(images) \n",
    "\n",
    "    return images\n",
    "\n"
   ]
  },
  {
   "cell_type": "code",
   "execution_count": 5,
   "metadata": {},
   "outputs": [],
   "source": [
    "#load train datasets\n",
    "train_images = load_datasets(DIRNAME_train)"
   ]
  },
  {
   "cell_type": "code",
   "execution_count": 6,
   "metadata": {},
   "outputs": [
    {
     "name": "stdout",
     "output_type": "stream",
     "text": [
      "25000\n"
     ]
    }
   ],
   "source": [
    "#convert image into array\n",
    "train_datasets=[]       \n",
    "for images in train_images:\n",
    "    #make sure '.DS_Store' files are not in directory\n",
    "    if 'dog' in images:\n",
    "        label=0\n",
    "    else:\n",
    "        label=1    \n",
    "    img = Image.open(images)\n",
    "    img = img.resize((IMG_HEIGHT, IMG_WIDTH))\n",
    "    img_array= np.asarray(img)\n",
    "    train_datasets.append([label,img_array])\n",
    "            \n",
    "random.shuffle(train_datasets)\n",
    "m=len(train_datasets)\n",
    "print(m)"
   ]
  },
  {
   "cell_type": "code",
   "execution_count": 7,
   "metadata": {},
   "outputs": [
    {
     "data": {
      "text/html": [
       "<div>\n",
       "<style scoped>\n",
       "    .dataframe tbody tr th:only-of-type {\n",
       "        vertical-align: middle;\n",
       "    }\n",
       "\n",
       "    .dataframe tbody tr th {\n",
       "        vertical-align: top;\n",
       "    }\n",
       "\n",
       "    .dataframe thead th {\n",
       "        text-align: right;\n",
       "    }\n",
       "</style>\n",
       "<table border=\"1\" class=\"dataframe\">\n",
       "  <thead>\n",
       "    <tr style=\"text-align: right;\">\n",
       "      <th></th>\n",
       "      <th>label</th>\n",
       "      <th>ImageArray</th>\n",
       "    </tr>\n",
       "  </thead>\n",
       "  <tbody>\n",
       "    <tr>\n",
       "      <th>0</th>\n",
       "      <td>0</td>\n",
       "      <td>[[[62, 61, 69], [48, 42, 52], [65, 57, 68], [6...</td>\n",
       "    </tr>\n",
       "    <tr>\n",
       "      <th>1</th>\n",
       "      <td>0</td>\n",
       "      <td>[[[141, 150, 123], [164, 170, 144], [155, 153,...</td>\n",
       "    </tr>\n",
       "    <tr>\n",
       "      <th>2</th>\n",
       "      <td>1</td>\n",
       "      <td>[[[79, 67, 43], [79, 67, 43], [79, 68, 44], [7...</td>\n",
       "    </tr>\n",
       "    <tr>\n",
       "      <th>3</th>\n",
       "      <td>0</td>\n",
       "      <td>[[[219, 211, 199], [214, 211, 196], [214, 215,...</td>\n",
       "    </tr>\n",
       "    <tr>\n",
       "      <th>4</th>\n",
       "      <td>0</td>\n",
       "      <td>[[[53, 34, 21], [56, 37, 24], [62, 45, 30], [6...</td>\n",
       "    </tr>\n",
       "    <tr>\n",
       "      <th>...</th>\n",
       "      <td>...</td>\n",
       "      <td>...</td>\n",
       "    </tr>\n",
       "    <tr>\n",
       "      <th>24985</th>\n",
       "      <td>0</td>\n",
       "      <td>[[[144, 128, 126], [138, 128, 124], [133, 131,...</td>\n",
       "    </tr>\n",
       "    <tr>\n",
       "      <th>24986</th>\n",
       "      <td>1</td>\n",
       "      <td>[[[11, 16, 10], [25, 26, 22], [50, 46, 43], [5...</td>\n",
       "    </tr>\n",
       "    <tr>\n",
       "      <th>24987</th>\n",
       "      <td>0</td>\n",
       "      <td>[[[252, 246, 216], [248, 246, 216], [255, 250,...</td>\n",
       "    </tr>\n",
       "    <tr>\n",
       "      <th>24988</th>\n",
       "      <td>0</td>\n",
       "      <td>[[[88, 106, 136], [159, 161, 162], [155, 157, ...</td>\n",
       "    </tr>\n",
       "    <tr>\n",
       "      <th>24989</th>\n",
       "      <td>0</td>\n",
       "      <td>[[[99, 93, 71], [102, 96, 74], [108, 103, 81],...</td>\n",
       "    </tr>\n",
       "  </tbody>\n",
       "</table>\n",
       "<p>24990 rows × 2 columns</p>\n",
       "</div>"
      ],
      "text/plain": [
       "       label                                         ImageArray\n",
       "0          0  [[[62, 61, 69], [48, 42, 52], [65, 57, 68], [6...\n",
       "1          0  [[[141, 150, 123], [164, 170, 144], [155, 153,...\n",
       "2          1  [[[79, 67, 43], [79, 67, 43], [79, 68, 44], [7...\n",
       "3          0  [[[219, 211, 199], [214, 211, 196], [214, 215,...\n",
       "4          0  [[[53, 34, 21], [56, 37, 24], [62, 45, 30], [6...\n",
       "...      ...                                                ...\n",
       "24985      0  [[[144, 128, 126], [138, 128, 124], [133, 131,...\n",
       "24986      1  [[[11, 16, 10], [25, 26, 22], [50, 46, 43], [5...\n",
       "24987      0  [[[252, 246, 216], [248, 246, 216], [255, 250,...\n",
       "24988      0  [[[88, 106, 136], [159, 161, 162], [155, 157, ...\n",
       "24989      0  [[[99, 93, 71], [102, 96, 74], [108, 103, 81],...\n",
       "\n",
       "[24990 rows x 2 columns]"
      ]
     },
     "execution_count": 7,
     "metadata": {},
     "output_type": "execute_result"
    }
   ],
   "source": [
    "#create a dataframe to analyze data\n",
    "df=pd.DataFrame(train_datasets)\n",
    "df.columns = [\"label\", \"ImageArray\"]\n",
    "df.head(-10)\n"
   ]
  },
  {
   "cell_type": "code",
   "execution_count": 8,
   "metadata": {},
   "outputs": [
    {
     "name": "stdout",
     "output_type": "stream",
     "text": [
      "(25000, 2)\n"
     ]
    }
   ],
   "source": [
    "print(df.shape)"
   ]
  },
  {
   "cell_type": "code",
   "execution_count": 9,
   "metadata": {},
   "outputs": [
    {
     "name": "stdout",
     "output_type": "stream",
     "text": [
      "Input Shape : \n",
      "(64, 64, 3)\n",
      " Output data\n",
      "0\n",
      "Input Shape : \n",
      "(64, 64, 3)\n",
      " Output data\n",
      "0\n",
      "Input Shape : \n",
      "(64, 64, 3)\n",
      " Output data\n",
      "1\n",
      "Input Shape : \n",
      "(64, 64, 3)\n",
      " Output data\n",
      "0\n",
      "Input Shape : \n",
      "(64, 64, 3)\n",
      " Output data\n",
      "0\n",
      "Input Shape : \n",
      "(64, 64, 3)\n",
      " Output data\n",
      "0\n",
      "Input Shape : \n",
      "(64, 64, 3)\n",
      " Output data\n",
      "0\n",
      "Input Shape : \n",
      "(64, 64, 3)\n",
      " Output data\n",
      "0\n",
      "Input Shape : \n",
      "(64, 64, 3)\n",
      " Output data\n",
      "1\n",
      "Input Shape : \n",
      "(64, 64, 3)\n",
      " Output data\n",
      "1\n"
     ]
    }
   ],
   "source": [
    "#check input image shape\n",
    "for i in range(10):\n",
    "    print(\"Input Shape : \")\n",
    "    print(df.ImageArray[i].shape)\n",
    "    print(\" Output data\")\n",
    "    print(df.label[i])"
   ]
  },
  {
   "cell_type": "code",
   "execution_count": 10,
   "metadata": {},
   "outputs": [
    {
     "name": "stdout",
     "output_type": "stream",
     "text": [
      "Input Shape : (25000, 64, 64, 3)\n",
      "Output Shape : (25000, 1)\n"
     ]
    }
   ],
   "source": [
    "#create a vectorized input and output\n",
    "input = list()\n",
    "output = list()\n",
    "\n",
    "for data in train_datasets:\n",
    "    input.append(data[1])\n",
    "    output.append([data[0]])  \n",
    "    \n",
    "input = np.array(input)\n",
    "output = np.array(output)\n",
    "\n",
    "print(\"Input Shape : {}\".format(input.shape))\n",
    "print(\"Output Shape : {}\".format(output.shape))\n",
    " "
   ]
  },
  {
   "cell_type": "code",
   "execution_count": 17,
   "metadata": {},
   "outputs": [],
   "source": [
    "#create a CNN model \n",
    "input_shape=(IMG_HEIGHT,IMG_WIDTH,3)\n",
    "def model():\n",
    "    model = K.Sequential()\n",
    "    \n",
    "    model.add(Conv2D(32 , kernel_size=(3, 3),  input_shape = input_shape, padding='same'))\n",
    "    model.add(BatchNormalization(axis=-1))\n",
    "    model.add(Activation('relu')) \n",
    "    model.add(MaxPooling2D(pool_size  = (2,2)))\n",
    "    \n",
    "    model.add(Conv2D(64 , kernel_size=(3, 3),  input_shape = input_shape, padding='same'))\n",
    "    model.add(BatchNormalization(axis=-1))\n",
    "    model.add(Activation('relu'))\n",
    "    model.add(MaxPooling2D(pool_size  = (2,2)))\n",
    "    \n",
    "    model.add(Conv2D(128 , kernel_size=(3, 3),  input_shape = input_shape, padding='same'))\n",
    "    model.add(BatchNormalization(axis=-1))\n",
    "    model.add(Activation('relu'))\n",
    "    model.add(MaxPooling2D(pool_size  = (2,2)))\n",
    "    model.add(Dropout(0.2))\n",
    "    \n",
    "    model.add(Flatten())\n",
    "    model.add(Dense(128))\n",
    "    model.add(Activation('relu'))\n",
    "    model.add(Dropout(0.2))\n",
    "    model.add(Dense(1))\n",
    "    model.add(Activation('sigmoid'))\n",
    "  \n",
    "    return model\n",
    "    \n",
    "    "
   ]
  },
  {
   "cell_type": "code",
   "execution_count": 18,
   "metadata": {},
   "outputs": [
    {
     "name": "stdout",
     "output_type": "stream",
     "text": [
      "Model: \"sequential_1\"\n",
      "_________________________________________________________________\n",
      "Layer (type)                 Output Shape              Param #   \n",
      "=================================================================\n",
      "conv2d_3 (Conv2D)            (None, 64, 64, 32)        896       \n",
      "_________________________________________________________________\n",
      "batch_normalization_3 (Batch (None, 64, 64, 32)        128       \n",
      "_________________________________________________________________\n",
      "activation_5 (Activation)    (None, 64, 64, 32)        0         \n",
      "_________________________________________________________________\n",
      "max_pooling2d_3 (MaxPooling2 (None, 32, 32, 32)        0         \n",
      "_________________________________________________________________\n",
      "conv2d_4 (Conv2D)            (None, 32, 32, 64)        18496     \n",
      "_________________________________________________________________\n",
      "batch_normalization_4 (Batch (None, 32, 32, 64)        256       \n",
      "_________________________________________________________________\n",
      "activation_6 (Activation)    (None, 32, 32, 64)        0         \n",
      "_________________________________________________________________\n",
      "max_pooling2d_4 (MaxPooling2 (None, 16, 16, 64)        0         \n",
      "_________________________________________________________________\n",
      "conv2d_5 (Conv2D)            (None, 16, 16, 128)       73856     \n",
      "_________________________________________________________________\n",
      "batch_normalization_5 (Batch (None, 16, 16, 128)       512       \n",
      "_________________________________________________________________\n",
      "activation_7 (Activation)    (None, 16, 16, 128)       0         \n",
      "_________________________________________________________________\n",
      "max_pooling2d_5 (MaxPooling2 (None, 8, 8, 128)         0         \n",
      "_________________________________________________________________\n",
      "dropout_2 (Dropout)          (None, 8, 8, 128)         0         \n",
      "_________________________________________________________________\n",
      "flatten_1 (Flatten)          (None, 8192)              0         \n",
      "_________________________________________________________________\n",
      "dense_2 (Dense)              (None, 128)               1048704   \n",
      "_________________________________________________________________\n",
      "activation_8 (Activation)    (None, 128)               0         \n",
      "_________________________________________________________________\n",
      "dropout_3 (Dropout)          (None, 128)               0         \n",
      "_________________________________________________________________\n",
      "dense_3 (Dense)              (None, 1)                 129       \n",
      "_________________________________________________________________\n",
      "activation_9 (Activation)    (None, 1)                 0         \n",
      "=================================================================\n",
      "Total params: 1,142,977\n",
      "Trainable params: 1,142,529\n",
      "Non-trainable params: 448\n",
      "_________________________________________________________________\n"
     ]
    }
   ],
   "source": [
    "model = model()\n",
    "model.summary()"
   ]
  },
  {
   "cell_type": "code",
   "execution_count": 19,
   "metadata": {},
   "outputs": [],
   "source": [
    "model.compile(optimizer = 'adam', loss = 'binary_crossentropy', metrics = ['accuracy'])"
   ]
  },
  {
   "cell_type": "code",
   "execution_count": 20,
   "metadata": {},
   "outputs": [
    {
     "name": "stdout",
     "output_type": "stream",
     "text": [
      "Epoch 1/4\n",
      "704/704 [==============================] - 88s 124ms/step - loss: 1.0019 - accuracy: 0.5787 - val_loss: 0.6375 - val_accuracy: 0.6468\n",
      "Epoch 2/4\n",
      "704/704 [==============================] - 86s 123ms/step - loss: 0.6020 - accuracy: 0.6820 - val_loss: 0.5915 - val_accuracy: 0.7064\n",
      "Epoch 3/4\n",
      "704/704 [==============================] - 86s 123ms/step - loss: 0.5729 - accuracy: 0.7100 - val_loss: 0.5252 - val_accuracy: 0.7728\n",
      "Epoch 4/4\n",
      "704/704 [==============================] - 86s 122ms/step - loss: 0.5376 - accuracy: 0.7354 - val_loss: 0.4969 - val_accuracy: 0.7740\n"
     ]
    },
    {
     "data": {
      "text/plain": [
       "<tensorflow.python.keras.callbacks.History at 0x7f8f24b2d2b0>"
      ]
     },
     "execution_count": 20,
     "metadata": {},
     "output_type": "execute_result"
    }
   ],
   "source": [
    "model.fit(input, output, batch_size=32, epochs=4, validation_split=0.1)"
   ]
  },
  {
   "cell_type": "code",
   "execution_count": 21,
   "metadata": {},
   "outputs": [],
   "source": [
    "#load test images\n",
    "test_images = load_datasets(DIRNAME_test)\n"
   ]
  },
  {
   "cell_type": "code",
   "execution_count": 22,
   "metadata": {},
   "outputs": [],
   "source": [
    "#resize test image\n",
    "img = Image.open(test_images[0])\n",
    "img = img.resize((IMG_HEIGHT, IMG_WIDTH))\n"
   ]
  },
  {
   "cell_type": "code",
   "execution_count": 23,
   "metadata": {},
   "outputs": [
    {
     "name": "stdout",
     "output_type": "stream",
     "text": [
      "The target image is : \n"
     ]
    },
    {
     "data": {
      "text/plain": [
       "<matplotlib.image.AxesImage at 0x7f8f26c5b670>"
      ]
     },
     "execution_count": 23,
     "metadata": {},
     "output_type": "execute_result"
    },
    {
     "data": {
      "image/png": "[encoded data removed]",
      "text/plain": [
       "<Figure size 432x288 with 1 Axes>"
      ]
     },
     "metadata": {
      "needs_background": "light"
     },
     "output_type": "display_data"
    }
   ],
   "source": [
    "#visualize target image\n",
    "print(\"The target image is : \")\n",
    "plt.imshow(img)"
   ]
  },
  {
   "cell_type": "code",
   "execution_count": 24,
   "metadata": {},
   "outputs": [],
   "source": [
    "input_arr= np.asarray(img).reshape(-1,IMG_HEIGHT,IMG_WIDTH,3)"
   ]
  },
  {
   "cell_type": "code",
   "execution_count": 25,
   "metadata": {},
   "outputs": [
    {
     "name": "stdout",
     "output_type": "stream",
     "text": [
      "(1, 64, 64, 3)\n"
     ]
    }
   ],
   "source": [
    "print(input_arr.shape)"
   ]
  },
  {
   "cell_type": "code",
   "execution_count": 28,
   "metadata": {},
   "outputs": [],
   "source": [
    "#create prediction model\n",
    "def pred():\n",
    "    pred = model.predict(input_arr)\n",
    "    if (pred[0][0] <= 0.5):\n",
    "        return \"dog\"\n",
    "    else:\n",
    "        return\"cat\""
   ]
  },
  {
   "cell_type": "code",
   "execution_count": 29,
   "metadata": {},
   "outputs": [
    {
     "name": "stdout",
     "output_type": "stream",
     "text": [
      "The animal in the image is : dog \n"
     ]
    }
   ],
   "source": [
    "#prediction\n",
    "pred_pet=pred()\n",
    "print(\"The animal in the image is : {} \".format(pred_pet))"
   ]
  },
  {
   "cell_type": "code",
   "execution_count": null,
   "metadata": {},
   "outputs": [],
   "source": []
  },
  {
   "cell_type": "code",
   "execution_count": null,
   "metadata": {},
   "outputs": [],
   "source": []
  },
  {
   "cell_type": "code",
   "execution_count": null,
   "metadata": {},
   "outputs": [],
   "source": []
  }
 ],
 "metadata": {
  "kernelspec": {
   "display_name": "Python 3",
   "language": "python",
   "name": "python3"
  },
  "language_info": {
   "codemirror_mode": {
    "name": "ipython",
    "version": 3
   },
   "file_extension": ".py",
   "mimetype": "text/x-python",
   "name": "python",
   "nbconvert_exporter": "python",
   "pygments_lexer": "ipython3",
   "version": "3.8.3"
  }
 },
 "nbformat": 4,
 "nbformat_minor": 4
}
