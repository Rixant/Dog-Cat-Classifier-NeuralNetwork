{
 "cells": [
  {
   "cell_type": "code",
   "execution_count": 14,
   "metadata": {},
   "outputs": [
    {
     "name": "stdout",
     "output_type": "stream",
     "text": [
      "Libraries imported succesfully\n"
     ]
    }
   ],
   "source": [
    "#import relevant libraries\n",
    "import numpy as np\n",
    "import pandas as pd\n",
    "import random as random\n",
    "import matplotlib.pyplot as plt\n",
    "import os\n",
    "from PIL import Image\n",
    "import keras as K\n",
    "from keras.models import Model\n",
    "from keras.layers import Conv2D, MaxPooling2D, BatchNormalization, Activation\n",
    "from keras.layers import Flatten, Dense, Dropout\n",
    "from keras.preprocessing.image import ImageDataGenerator\n",
    "\n",
    "print('Libraries imported succesfully')"
   ]
  },
  {
   "cell_type": "code",
   "execution_count": 15,
   "metadata": {},
   "outputs": [],
   "source": [
    "DIRNAME_train = './datasets/training_set'\n",
    "DIRNAME_test = './datasets/test_set'"
   ]
  },
  {
   "cell_type": "code",
   "execution_count": 16,
   "metadata": {},
   "outputs": [],
   "source": [
    "IMG_HEIGHT = 64\n",
    "IMG_WIDTH = 64"
   ]
  },
  {
   "cell_type": "code",
   "execution_count": 17,
   "metadata": {},
   "outputs": [],
   "source": [
    "train_images = []\n",
    "for dirname, _, filenames in os.walk(DIRNAME_train):\n",
    "    for filename in filenames:   \n",
    "        train_images.append(os.path.join(dirname, filename))\n",
    "random.shuffle(train_images) \n",
    "\n"
   ]
  },
  {
   "cell_type": "code",
   "execution_count": 18,
   "metadata": {},
   "outputs": [
    {
     "name": "stdout",
     "output_type": "stream",
     "text": [
      "3721\n"
     ]
    }
   ],
   "source": [
    "train_datasets=[]       \n",
    "for images in train_images:\n",
    "    if 'DS_Store' in images:\n",
    "        break\n",
    "    elif 'dog' in images:\n",
    "        label=0\n",
    "    else:\n",
    "        label=1    \n",
    "    img = Image.open(images)\n",
    "    img = img.resize((IMG_HEIGHT, IMG_WIDTH))\n",
    "    img_array= np.asarray(img)\n",
    "    train_datasets.append([label,img_array])\n",
    "            \n",
    "random.shuffle(train_datasets)\n",
    "m=len(train_datasets)\n",
    "print(m)"
   ]
  },
  {
   "cell_type": "code",
   "execution_count": 19,
   "metadata": {},
   "outputs": [
    {
     "data": {
      "text/html": [
       "<div>\n",
       "<style scoped>\n",
       "    .dataframe tbody tr th:only-of-type {\n",
       "        vertical-align: middle;\n",
       "    }\n",
       "\n",
       "    .dataframe tbody tr th {\n",
       "        vertical-align: top;\n",
       "    }\n",
       "\n",
       "    .dataframe thead th {\n",
       "        text-align: right;\n",
       "    }\n",
       "</style>\n",
       "<table border=\"1\" class=\"dataframe\">\n",
       "  <thead>\n",
       "    <tr style=\"text-align: right;\">\n",
       "      <th></th>\n",
       "      <th>label</th>\n",
       "      <th>ImageArray</th>\n",
       "    </tr>\n",
       "  </thead>\n",
       "  <tbody>\n",
       "    <tr>\n",
       "      <th>0</th>\n",
       "      <td>0</td>\n",
       "      <td>[[[248, 251, 246], [245, 248, 239], [237, 240,...</td>\n",
       "    </tr>\n",
       "    <tr>\n",
       "      <th>1</th>\n",
       "      <td>0</td>\n",
       "      <td>[[[105, 99, 77], [96, 89, 70], [90, 79, 64], [...</td>\n",
       "    </tr>\n",
       "    <tr>\n",
       "      <th>2</th>\n",
       "      <td>0</td>\n",
       "      <td>[[[82, 97, 134], [31, 43, 69], [37, 47, 56], [...</td>\n",
       "    </tr>\n",
       "    <tr>\n",
       "      <th>3</th>\n",
       "      <td>1</td>\n",
       "      <td>[[[41, 46, 50], [44, 49, 53], [48, 52, 57], [5...</td>\n",
       "    </tr>\n",
       "    <tr>\n",
       "      <th>4</th>\n",
       "      <td>1</td>\n",
       "      <td>[[[58, 50, 38], [60, 55, 46], [62, 62, 63], [5...</td>\n",
       "    </tr>\n",
       "    <tr>\n",
       "      <th>...</th>\n",
       "      <td>...</td>\n",
       "      <td>...</td>\n",
       "    </tr>\n",
       "    <tr>\n",
       "      <th>3706</th>\n",
       "      <td>0</td>\n",
       "      <td>[[[14, 16, 15], [17, 19, 18], [16, 18, 17], [1...</td>\n",
       "    </tr>\n",
       "    <tr>\n",
       "      <th>3707</th>\n",
       "      <td>1</td>\n",
       "      <td>[[[217, 226, 228], [193, 198, 196], [239, 242,...</td>\n",
       "    </tr>\n",
       "    <tr>\n",
       "      <th>3708</th>\n",
       "      <td>0</td>\n",
       "      <td>[[[82, 83, 83], [90, 81, 85], [96, 80, 87], [9...</td>\n",
       "    </tr>\n",
       "    <tr>\n",
       "      <th>3709</th>\n",
       "      <td>0</td>\n",
       "      <td>[[[154, 106, 118], [146, 100, 106], [147, 98, ...</td>\n",
       "    </tr>\n",
       "    <tr>\n",
       "      <th>3710</th>\n",
       "      <td>0</td>\n",
       "      <td>[[[102, 122, 105], [103, 118, 103], [103, 116,...</td>\n",
       "    </tr>\n",
       "  </tbody>\n",
       "</table>\n",
       "<p>3711 rows × 2 columns</p>\n",
       "</div>"
      ],
      "text/plain": [
       "      label                                         ImageArray\n",
       "0         0  [[[248, 251, 246], [245, 248, 239], [237, 240,...\n",
       "1         0  [[[105, 99, 77], [96, 89, 70], [90, 79, 64], [...\n",
       "2         0  [[[82, 97, 134], [31, 43, 69], [37, 47, 56], [...\n",
       "3         1  [[[41, 46, 50], [44, 49, 53], [48, 52, 57], [5...\n",
       "4         1  [[[58, 50, 38], [60, 55, 46], [62, 62, 63], [5...\n",
       "...     ...                                                ...\n",
       "3706      0  [[[14, 16, 15], [17, 19, 18], [16, 18, 17], [1...\n",
       "3707      1  [[[217, 226, 228], [193, 198, 196], [239, 242,...\n",
       "3708      0  [[[82, 83, 83], [90, 81, 85], [96, 80, 87], [9...\n",
       "3709      0  [[[154, 106, 118], [146, 100, 106], [147, 98, ...\n",
       "3710      0  [[[102, 122, 105], [103, 118, 103], [103, 116,...\n",
       "\n",
       "[3711 rows x 2 columns]"
      ]
     },
     "execution_count": 19,
     "metadata": {},
     "output_type": "execute_result"
    }
   ],
   "source": [
    "\n",
    "df=pd.DataFrame(train_datasets)\n",
    "df.columns = [\"label\", \"ImageArray\"]\n",
    "df.head(-10)\n"
   ]
  },
  {
   "cell_type": "code",
   "execution_count": 20,
   "metadata": {},
   "outputs": [
    {
     "name": "stdout",
     "output_type": "stream",
     "text": [
      "(3721, 2)\n"
     ]
    }
   ],
   "source": [
    "print(df.shape)"
   ]
  },
  {
   "cell_type": "code",
   "execution_count": 21,
   "metadata": {},
   "outputs": [
    {
     "name": "stdout",
     "output_type": "stream",
     "text": [
      "Input Shape : \n",
      "(64, 64, 3)\n",
      " Output data\n",
      "0\n",
      "Input Shape : \n",
      "(64, 64, 3)\n",
      " Output data\n",
      "0\n",
      "Input Shape : \n",
      "(64, 64, 3)\n",
      " Output data\n",
      "0\n",
      "Input Shape : \n",
      "(64, 64, 3)\n",
      " Output data\n",
      "1\n",
      "Input Shape : \n",
      "(64, 64, 3)\n",
      " Output data\n",
      "1\n",
      "Input Shape : \n",
      "(64, 64, 3)\n",
      " Output data\n",
      "1\n",
      "Input Shape : \n",
      "(64, 64, 3)\n",
      " Output data\n",
      "0\n",
      "Input Shape : \n",
      "(64, 64, 3)\n",
      " Output data\n",
      "1\n",
      "Input Shape : \n",
      "(64, 64, 3)\n",
      " Output data\n",
      "1\n",
      "Input Shape : \n",
      "(64, 64, 3)\n",
      " Output data\n",
      "0\n"
     ]
    }
   ],
   "source": [
    "for i in range(10):\n",
    "    print(\"Input Shape : \")\n",
    "    print(df.ImageArray[i].shape)\n",
    "    print(\" Output data\")\n",
    "    print(df.label[i])"
   ]
  },
  {
   "cell_type": "code",
   "execution_count": 22,
   "metadata": {},
   "outputs": [
    {
     "name": "stdout",
     "output_type": "stream",
     "text": [
      "Input Shape : (3721, 64, 64, 3)\n",
      "Output Shape : (3721, 1)\n"
     ]
    }
   ],
   "source": [
    "input = []\n",
    "output = []\n",
    "\n",
    "for data in train_datasets:\n",
    "    input.append(data[1])\n",
    "    output.append([data[0]])  \n",
    "    \n",
    "input = np.array(input)\n",
    "output = np.array(output)\n",
    "\n",
    "print(\"Input Shape : {}\".format(input.shape))\n",
    "print(\"Output Shape : {}\".format(output.shape))\n",
    " "
   ]
  },
  {
   "cell_type": "code",
   "execution_count": 23,
   "metadata": {},
   "outputs": [],
   "source": [
    "input_shape=(64,64,3)\n",
    "def model():\n",
    "    model = K.Sequential()\n",
    "    \n",
    "    model.add(Conv2D(32 , kernel_size=(3, 3),  input_shape = input_shape, padding='same'))\n",
    "    model.add(BatchNormalization(axis=-1))\n",
    "    model.add(Activation('relu')) \n",
    "    model.add(MaxPooling2D(pool_size  = (2,2)))\n",
    "    \n",
    "    model.add(Conv2D(64 , kernel_size=(3, 3),  input_shape = input_shape, padding='same'))\n",
    "    model.add(BatchNormalization(axis=-1))\n",
    "    model.add(Activation('relu'))\n",
    "    model.add(MaxPooling2D(pool_size  = (2,2)))\n",
    "    \n",
    "    model.add(Conv2D(128 , kernel_size=(3, 3),  input_shape = input_shape, padding='same'))\n",
    "    model.add(BatchNormalization(axis=-1))\n",
    "    model.add(Activation('relu'))\n",
    "    model.add(MaxPooling2D(pool_size  = (2,2)))\n",
    "    \n",
    "    \n",
    "    model.add(Flatten())\n",
    "    model.add(Dense(128, activation = 'relu'))\n",
    "    model.add(Dense(1, activation = 'sigmoid'))\n",
    "  \n",
    "    return model\n",
    "    \n",
    "    "
   ]
  },
  {
   "cell_type": "code",
   "execution_count": 24,
   "metadata": {},
   "outputs": [
    {
     "name": "stdout",
     "output_type": "stream",
     "text": [
      "Model: \"sequential_1\"\n",
      "_________________________________________________________________\n",
      "Layer (type)                 Output Shape              Param #   \n",
      "=================================================================\n",
      "conv2d_3 (Conv2D)            (None, 64, 64, 32)        896       \n",
      "_________________________________________________________________\n",
      "batch_normalization_3 (Batch (None, 64, 64, 32)        128       \n",
      "_________________________________________________________________\n",
      "activation_3 (Activation)    (None, 64, 64, 32)        0         \n",
      "_________________________________________________________________\n",
      "max_pooling2d_3 (MaxPooling2 (None, 32, 32, 32)        0         \n",
      "_________________________________________________________________\n",
      "conv2d_4 (Conv2D)            (None, 32, 32, 64)        18496     \n",
      "_________________________________________________________________\n",
      "batch_normalization_4 (Batch (None, 32, 32, 64)        256       \n",
      "_________________________________________________________________\n",
      "activation_4 (Activation)    (None, 32, 32, 64)        0         \n",
      "_________________________________________________________________\n",
      "max_pooling2d_4 (MaxPooling2 (None, 16, 16, 64)        0         \n",
      "_________________________________________________________________\n",
      "conv2d_5 (Conv2D)            (None, 16, 16, 128)       73856     \n",
      "_________________________________________________________________\n",
      "batch_normalization_5 (Batch (None, 16, 16, 128)       512       \n",
      "_________________________________________________________________\n",
      "activation_5 (Activation)    (None, 16, 16, 128)       0         \n",
      "_________________________________________________________________\n",
      "max_pooling2d_5 (MaxPooling2 (None, 8, 8, 128)         0         \n",
      "_________________________________________________________________\n",
      "flatten_1 (Flatten)          (None, 8192)              0         \n",
      "_________________________________________________________________\n",
      "dense_2 (Dense)              (None, 128)               1048704   \n",
      "_________________________________________________________________\n",
      "dense_3 (Dense)              (None, 1)                 129       \n",
      "=================================================================\n",
      "Total params: 1,142,977\n",
      "Trainable params: 1,142,529\n",
      "Non-trainable params: 448\n",
      "_________________________________________________________________\n"
     ]
    }
   ],
   "source": [
    "model = model()\n",
    "model.summary()"
   ]
  },
  {
   "cell_type": "code",
   "execution_count": 25,
   "metadata": {},
   "outputs": [],
   "source": [
    "model.compile(optimizer = 'adam', loss = 'binary_crossentropy', metrics = ['accuracy'])"
   ]
  },
  {
   "cell_type": "code",
   "execution_count": null,
   "metadata": {},
   "outputs": [
    {
     "name": "stdout",
     "output_type": "stream",
     "text": [
      "Epoch 1/12\n",
      "105/105 [==============================] - 14s 126ms/step - loss: 1.7675 - accuracy: 0.5592 - val_loss: 0.7354 - val_accuracy: 0.5550\n",
      "Epoch 2/12\n",
      "105/105 [==============================] - 13s 126ms/step - loss: 0.5640 - accuracy: 0.7226 - val_loss: 0.6915 - val_accuracy: 0.5818\n",
      "Epoch 3/12\n",
      "105/105 [==============================] - 14s 129ms/step - loss: 0.5375 - accuracy: 0.7256 - val_loss: 0.5645 - val_accuracy: 0.7105\n",
      "Epoch 4/12\n",
      "105/105 [==============================] - 13s 128ms/step - loss: 0.4589 - accuracy: 0.7913 - val_loss: 1.2299 - val_accuracy: 0.5576\n",
      "Epoch 5/12\n",
      "105/105 [==============================] - 13s 126ms/step - loss: 0.4160 - accuracy: 0.8093 - val_loss: 0.5494 - val_accuracy: 0.7292\n",
      "Epoch 6/12\n",
      "105/105 [==============================] - 13s 126ms/step - loss: 0.3778 - accuracy: 0.8353 - val_loss: 0.8541 - val_accuracy: 0.6193\n",
      "Epoch 7/12\n",
      "105/105 [==============================] - 13s 127ms/step - loss: 0.3177 - accuracy: 0.8569 - val_loss: 0.5520 - val_accuracy: 0.7399\n",
      "Epoch 8/12\n",
      "105/105 [==============================] - 13s 126ms/step - loss: 0.2724 - accuracy: 0.8859 - val_loss: 0.6186 - val_accuracy: 0.6944\n",
      "Epoch 9/12\n",
      "105/105 [==============================] - 13s 125ms/step - loss: 0.2387 - accuracy: 0.9047 - val_loss: 0.5106 - val_accuracy: 0.7507\n",
      "Epoch 10/12\n",
      "105/105 [==============================] - 13s 125ms/step - loss: 0.1607 - accuracy: 0.9476 - val_loss: 0.8357 - val_accuracy: 0.6917\n",
      "Epoch 11/12\n",
      " 99/105 [===========================>..] - ETA: 0s - loss: 0.1083 - accuracy: 0.9694"
     ]
    }
   ],
   "source": [
    "model.fit(input, output, batch_size=32, epochs=12, validation_split=0.1)"
   ]
  },
  {
   "cell_type": "code",
   "execution_count": null,
   "metadata": {},
   "outputs": [],
   "source": [
    "        "
   ]
  },
  {
   "cell_type": "code",
   "execution_count": null,
   "metadata": {},
   "outputs": [],
   "source": []
  },
  {
   "cell_type": "code",
   "execution_count": null,
   "metadata": {},
   "outputs": [],
   "source": []
  },
  {
   "cell_type": "code",
   "execution_count": null,
   "metadata": {},
   "outputs": [],
   "source": []
  },
  {
   "cell_type": "code",
   "execution_count": null,
   "metadata": {},
   "outputs": [],
   "source": []
  }
 ],
 "metadata": {
  "kernelspec": {
   "display_name": "Python 3",
   "language": "python",
   "name": "python3"
  },
  "language_info": {
   "codemirror_mode": {
    "name": "ipython",
    "version": 3
   },
   "file_extension": ".py",
   "mimetype": "text/x-python",
   "name": "python",
   "nbconvert_exporter": "python",
   "pygments_lexer": "ipython3",
   "version": "3.8.3"
  }
 },
 "nbformat": 4,
 "nbformat_minor": 4
}
